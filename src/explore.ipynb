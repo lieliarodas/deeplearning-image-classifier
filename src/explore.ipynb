{
    "cells": [
        {
            "cell_type": "markdown",
            "metadata": {},
            "source": [
                "Cats Vs Dogs - Image Classifier"
            ]
        },
        {
            "cell_type": "markdown",
            "metadata": {},
            "source": [
                "**Import Libraries**"
            ]
        },
        {
            "cell_type": "code",
            "execution_count": null,
            "metadata": {},
            "outputs": [],
            "source": [
                "import pandas as pd\n",
                "import numpy as np\n",
                "import matplotlib.pyplot as plt\n",
                "import seaborn as sns\n",
                "import json\n",
                "import pickle\n",
                "import tensorflow\n",
                "import os\n",
                "import shutil\n",
                "import requests\n",
                "import zipfile\n",
                "import io\n",
                "from sklearn.model_selection import train_test_split\n",
                "from sklearn.preprocessing import StandardScaler\n",
                "from sklearn.feature_selection import SelectKBest, f_regression\n",
                "from keras.preprocessing import image\n",
                "from tensorflow.keras.preprocessing.image import ImageDataGenerator\n",
                "from keras.models import Sequential\n",
                "from keras.layers import Dense, Conv2D, MaxPool2D, Flatten\n",
                "from tensorflow.keras.losses import SparseCategoricalCrossentropy"
            ]
        },
        {
            "cell_type": "markdown",
            "metadata": {},
            "source": [
                "**Upload data and process**"
            ]
        },
        {
            "cell_type": "code",
            "execution_count": null,
            "metadata": {},
            "outputs": [],
            "source": [
                "\n",
                "url = \"https://storage.googleapis.com/datascience-materials/dogs-vs-cats.zip\"\n",
                "response = requests.get(url)\n",
                "response.raise_for_status()\n",
                "\n",
                "with zipfile.ZipFile(io.BytesIO(response.content)) as z:\n",
                "    z.extractall(\"dogs-vs-cats\")"
            ]
        },
        {
            "cell_type": "code",
            "execution_count": null,
            "metadata": {},
            "outputs": [],
            "source": [
                "images_folder = \"../src/dogs-vs-cats/dogs-vs-cats/train\"\n",
                "source_folder = \"../data/processed\"\n",
                "cats_folder = \"../data/processed/cats\"\n",
                "dogs_folder = \"../data/processed/dogs\"\n",
                "\n",
                "# Crear carpetas si no existen\n",
                "os.makedirs(source_folder, exist_ok=True)\n",
                "os.makedirs(cats_folder, exist_ok=True)\n",
                "os.makedirs(dogs_folder, exist_ok=True)\n",
                "\n",
                "# Contadores para limitar 100 por clase\n",
                "cat_count = 0\n",
                "dog_count = 0\n",
                "max_images = 100  # máximo por clase\n",
                "\n",
                "for filename in os.listdir(images_folder):\n",
                "    file_path = os.path.join(images_folder, filename)\n",
                "    if os.path.isfile(file_path):\n",
                "        nombre = filename.lower()\n",
                "        if nombre.startswith(\"cat\") and cat_count < max_images:\n",
                "            shutil.copy(file_path, os.path.join(cats_folder, filename))\n",
                "            cat_count += 1\n",
                "        elif nombre.startswith(\"dog\") and dog_count < max_images:\n",
                "            shutil.copy(file_path, os.path.join(dogs_folder, filename))\n",
                "            dog_count += 1\n",
                "        \n",
                "        # Romper el loop si ya tenemos 100 de cada clase\n",
                "        if cat_count >= max_images and dog_count >= max_images:\n",
                "            break"
            ]
        },
        {
            "cell_type": "code",
            "execution_count": null,
            "metadata": {},
            "outputs": [],
            "source": [
                "def load_and_preprocess_images(data_dir, target_size=(224, 224)):\n",
                "    images = []\n",
                "    labels = []\n",
                "\n",
                "    for label in os.listdir(data_dir):\n",
                "        label_dir = os.path.join(data_dir, label)\n",
                "        if os.path.isdir(label_dir):\n",
                "            for filename in os.listdir(label_dir):\n",
                "                img_path = os.path.join(label_dir, filename)\n",
                "                try:\n",
                "                    img = image.load_img(img_path, target_size=target_size)\n",
                "                    img_array = image.img_to_array(img)\n",
                "                    img_array /= 255.0  \n",
                "                    images.append(img_array)\n",
                "                    # Labels\n",
                "                    if label == \"cats\":\n",
                "                        labels.append(0)\n",
                "                    elif label == \"dogs\":\n",
                "                        labels.append(1)\n",
                "                except Exception as e:\n",
                "                    print(f\"Error cargando la imagen {img_path}: {e}\")\n",
                "\n",
                "    return np.array(images), np.array(labels)\n",
                "\n",
                "\n",
                "images, labels = load_and_preprocess_images(\"../data/processed\")"
            ]
        },
        {
            "cell_type": "markdown",
            "metadata": {},
            "source": [
                "**Split train and test**"
            ]
        },
        {
            "cell_type": "code",
            "execution_count": 15,
            "metadata": {},
            "outputs": [],
            "source": [
                "X_train, X_test, Y_train, Y_test = train_test_split(images,labels, test_size=0.2, random_state=42)"
            ]
        },
        {
            "cell_type": "code",
            "execution_count": null,
            "metadata": {},
            "outputs": [],
            "source": [
                "source_dir = \"../data/processed\"\n",
                "\n",
                "train_dir = \"../data/train\"\n",
                "test_dir = \"../data/test\"\n",
                "\n",
                "os.makedirs(train_dir, exist_ok=True)\n",
                "os.makedirs(test_dir, exist_ok=True)\n",
                "\n",
                "classes = [\"cats\", \"dogs\"]\n",
                "\n",
                "for cls in classes:\n",
                "    cls_path = os.path.join(source_dir, cls)\n",
                "    files = os.listdir(cls_path)\n",
                "    \n",
                "    train_files, test_files = train_test_split(files, test_size=0.2, random_state=42)\n",
                "    os.makedirs(os.path.join(train_dir, cls), exist_ok=True)\n",
                "    os.makedirs(os.path.join(test_dir, cls), exist_ok=True)\n",
                "    \n",
                "    for f in train_files:\n",
                "        shutil.copy(os.path.join(cls_path, f), os.path.join(train_dir, cls, f))\n",
                "    \n",
                "    for f in test_files:\n",
                "        shutil.copy(os.path.join(cls_path, f), os.path.join(test_dir, cls, f))"
            ]
        },
        {
            "cell_type": "code",
            "execution_count": null,
            "metadata": {},
            "outputs": [],
            "source": [
                "train_datagen = ImageDataGenerator()\n",
                "train_datagen_10_percent = ImageDataGenerator(rescale=1/255.)\n",
                "\n",
                "\n",
                "train_data = train_datagen_10_percent.flow_from_directory(X_train, Y_train,\n",
                "                                                         class_mode='categorical',\n",
                "                                                         batch_size=32,\n",
                "                                                         shuffle=True)\n",
                "\n",
                "test_data = train_datagen_10_percent.flow_from_directory(X_test,Y_test,                                        \n",
                "                                                         class_mode='categorical',\n",
                "                                                         batch_size=32,\n",
                "                                                         shuffle=True)"
            ]
        },
        {
            "cell_type": "markdown",
            "metadata": {},
            "source": [
                "**Train the model**"
            ]
        },
        {
            "cell_type": "code",
            "execution_count": null,
            "metadata": {},
            "outputs": [],
            "source": [
                "model = Sequential()\n",
                "model.add(Conv2D(input_shape = (224,224,3), filters = 64, kernel_size = (3,3), padding = \"same\", activation = \"relu\"))\n",
                "model.add(Conv2D(filters = 64,kernel_size = (3,3),padding = \"same\", activation = \"relu\"))\n",
                "model.add(MaxPool2D(pool_size = (2,2),strides = (2,2)))\n",
                "model.add(Conv2D(filters = 128, kernel_size = (3,3), padding = \"same\", activation = \"relu\"))\n",
                "model.add(Conv2D(filters = 128, kernel_size = (3,3), padding = \"same\", activation = \"relu\"))\n",
                "model.add(MaxPool2D(pool_size = (2,2),strides = (2,2)))\n",
                "model.add(Conv2D(filters = 256, kernel_size = (3,3), padding = \"same\", activation = \"relu\"))\n",
                "model.add(Conv2D(filters = 256, kernel_size = (3,3), padding = \"same\", activation = \"relu\"))\n",
                "model.add(Conv2D(filters = 256, kernel_size = (3,3), padding = \"same\", activation = \"relu\"))\n",
                "model.add(MaxPool2D(pool_size = (2,2),strides = (2,2)))\n",
                "model.add(Conv2D(filters = 512, kernel_size = (3,3), padding = \"same\", activation = \"relu\"))\n",
                "model.add(Conv2D(filters = 512, kernel_size = (3,3), padding = \"same\", activation = \"relu\"))\n",
                "model.add(Conv2D(filters = 512, kernel_size = (3,3), padding = \"same\", activation = \"relu\"))\n",
                "model.add(MaxPool2D(pool_size = (2,2),strides = (2,2)))\n",
                "model.add(Conv2D(filters = 512, kernel_size = (3,3), padding = \"same\", activation = \"relu\"))\n",
                "model.add(Conv2D(filters = 512, kernel_size = (3,3), padding = \"same\", activation = \"relu\"))\n",
                "model.add(Conv2D(filters = 512, kernel_size = (3,3), padding = \"same\", activation = \"relu\"))\n",
                "model.add(MaxPool2D(pool_size = (2,2),strides = (2,2)))\n",
                "\n",
                "# Mover los datos por las capas densas\n",
                "model.add(Flatten())\n",
                "model.add(Dense(units = 4096,activation = \"relu\"))\n",
                "model.add(Dense(units = 4096,activation = \"relu\"))\n",
                "model.add(Dense(units = 2, activation = \"softmax\"))"
            ]
        },
        {
            "cell_type": "code",
            "execution_count": null,
            "metadata": {},
            "outputs": [],
            "source": [
                "\n",
                "model.compile(optimizer = \"adam\", loss = SparseCategoricalCrossentropy(from_logits = True), metrics = [\"accuracy\"])"
            ]
        },
        {
            "cell_type": "code",
            "execution_count": null,
            "metadata": {},
            "outputs": [],
            "source": [
                "model.fit(X_train, Y_train, epochs = 150, batch_size = 10)"
            ]
        }
    ],
    "metadata": {
        "kernelspec": {
            "display_name": "Python 3",
            "language": "python",
            "name": "python3"
        },
        "language_info": {
            "codemirror_mode": {
                "name": "ipython",
                "version": 3
            },
            "file_extension": ".py",
            "mimetype": "text/x-python",
            "name": "python",
            "nbconvert_exporter": "python",
            "pygments_lexer": "ipython3",
            "version": "3.11.4"
        },
        "orig_nbformat": 4
    },
    "nbformat": 4,
    "nbformat_minor": 2
}
